{
 "cells": [
  {
   "cell_type": "markdown",
   "id": "ae1db1be",
   "metadata": {},
   "source": [
    "# WS2526: Bruchstücke\n",
    "## Code um parallel probbare Szenen zu finden\n",
    "By Bruchbühne"
   ]
  },
  {
   "cell_type": "code",
   "execution_count": 1,
   "id": "ad85e3e3",
   "metadata": {},
   "outputs": [
    {
     "ename": "ModuleNotFoundError",
     "evalue": "No module named 'ipywidgets'",
     "output_type": "error",
     "traceback": [
      "\u001b[1;31m---------------------------------------------------------------------------\u001b[0m",
      "\u001b[1;31mModuleNotFoundError\u001b[0m                       Traceback (most recent call last)",
      "Cell \u001b[1;32mIn[1], line 5\u001b[0m\n\u001b[0;32m      3\u001b[0m \u001b[38;5;28;01mimport\u001b[39;00m\u001b[38;5;250m \u001b[39m\u001b[38;5;21;01mpandas\u001b[39;00m\u001b[38;5;250m \u001b[39m\u001b[38;5;28;01mas\u001b[39;00m\u001b[38;5;250m \u001b[39m\u001b[38;5;21;01mpd\u001b[39;00m\n\u001b[0;32m      4\u001b[0m \u001b[38;5;28;01mfrom\u001b[39;00m\u001b[38;5;250m \u001b[39m\u001b[38;5;21;01mIPython\u001b[39;00m\u001b[38;5;21;01m.\u001b[39;00m\u001b[38;5;21;01mdisplay\u001b[39;00m\u001b[38;5;250m \u001b[39m\u001b[38;5;28;01mimport\u001b[39;00m display\n\u001b[1;32m----> 5\u001b[0m \u001b[38;5;28;01mimport\u001b[39;00m\u001b[38;5;250m \u001b[39m\u001b[38;5;21;01mipywidgets\u001b[39;00m\u001b[38;5;250m \u001b[39m\u001b[38;5;28;01mas\u001b[39;00m\u001b[38;5;250m \u001b[39m\u001b[38;5;21;01mwidgets\u001b[39;00m\n",
      "\u001b[1;31mModuleNotFoundError\u001b[0m: No module named 'ipywidgets'"
     ]
    }
   ],
   "source": [
    "# Import packages\n",
    "import itertools\n",
    "import pandas as pd\n",
    "from IPython.display import display\n",
    "import ipywidgets as widgets"
   ]
  },
  {
   "cell_type": "code",
   "execution_count": null,
   "id": "10991bdf",
   "metadata": {},
   "outputs": [],
   "source": [
    "# Erstelle ein Dictionary mit allen Szenen und den Leuten darin \n",
    "szenen_dict = {\n",
    "    'Engel&Teufel': ['Kilian', 'Gini'],\n",
    "    'When to act 1.1': ['Miri', 'Dominic'],\n",
    "    'When to act 1.2': ['Miri', 'Dominic', 'Anka'],\n",
    "    'When to act 2': ['Miri', 'Dominic', 'Anka', 'Sarina'],\n",
    "    'When to act 3': ['Miri', 'Dominic', 'Anka', 'Flynn', 'Jan'],\n",
    "    'When to act 4.1': ['Miri', 'Dominic', 'Anka', 'Flynn', 'Jan', 'Gini'],\n",
    "    'When to act 4.2': ['Nicolai'],\n",
    "    'Wütend': ['Veronika', 'Susanne', 'Jakob'],\n",
    "    'Aleksei': ['Kilian', 'Susanne', 'Jan', 'Jakob'],\n",
    "    'Blutrausch': ['Veronika', 'Gabriel', 'Anka', 'Eleni'],\n",
    "    'Lachs': ['Miri', 'Lio', 'Gabriel'],\n",
    "    'Pausen': ['Dominic', 'Sarina'],\n",
    "    'Essenz': ['Ilea'],\n",
    "    'Was bleibt': ['Anka', 'Lio', 'Kilian'],\n",
    "    'Diana': ['Susanne', 'Ilea', 'Nicolai', 'Djami'],\n",
    "    'Midashand': ['Eleni', 'Gabriel', 'Djami'],\n",
    "    'Goldregen': ['Dominic']\n",
    "}\n",
    "\n",
    "alle_personen = set(p for personen in szenen_dict.values() for p in personen)\n",
    "verwendete_personen = set()\n",
    "ausgewaehlte_szenen = set()"
   ]
  },
  {
   "cell_type": "code",
   "execution_count": null,
   "id": "165407e3",
   "metadata": {},
   "outputs": [],
   "source": [
    "#Funktion zur Szenenwahl\n",
    "def waehle_szene(change):\n",
    "    global ausgewaehlte_szenen, verwendete_personen\n",
    "    szene = dropdown.value\n",
    "    if szene == \"– Szene wählen –\":\n",
    "        return\n",
    "    \n",
    "    ausgewaehlte_szenen.add(szene)\n",
    "    verwendete_personen.update(szenen_dict[szene])\n",
    "    \n",
    "    update_dropdown()\n",
    "    update_auswahl_anzeige()\n",
    "    \n",
    "def update_dropdown():\n",
    "    moegliche_szenen = [\n",
    "        sz for sz, personen in szenen_dict.items()\n",
    "        if sz not in ausgewaehlte_szenen and verwendete_personen.isdisjoint(personen)\n",
    "    ]\n",
    "    dropdown.options = [\"– Szene wählen –\"] + moegliche_szenen"
   ]
  },
  {
   "cell_type": "code",
   "execution_count": null,
   "id": "2cfb85d2",
   "metadata": {},
   "outputs": [],
   "source": [
    "#Anzeige-Widgets\n",
    "dropdown = widgets.Dropdown(\n",
    "    options=[\"– Szene wählen –\"] + list(szenen_dict.keys()),\n",
    "    description='Szene:',\n",
    "    layout=widgets.Layout(width='50%')\n",
    ")\n",
    "button = widgets.Button(description=\"Hinzufügen\")\n",
    "output = widgets.Output()\n",
    "\n",
    "def update_auswahl_anzeige():\n",
    "    with output:\n",
    "        output.clear_output()\n",
    "        print(\"Aktuell gewählte Szenen:\")\n",
    "        for sz in ausgewaehlte_szenen:\n",
    "            print(f\" - {sz} ({', '.join(szenen_dict[sz])})\")\n",
    "        fehlende_personen = alle_personen - verwendete_personen\n",
    "        print(\"\\nFehlende Personen:\", \", \".join(fehlende_personen) if fehlende_personen else \"Keine – alle abgedeckt!\")\n",
    "\n",
    "button.on_click(lambda b: waehle_szene(None))\n",
    "\n",
    "display(dropdown, button, output)"
   ]
  }
 ],
 "metadata": {
  "kernelspec": {
   "display_name": "base",
   "language": "python",
   "name": "python3"
  },
  "language_info": {
   "codemirror_mode": {
    "name": "ipython",
    "version": 3
   },
   "file_extension": ".py",
   "mimetype": "text/x-python",
   "name": "python",
   "nbconvert_exporter": "python",
   "pygments_lexer": "ipython3",
   "version": "3.12.2"
  }
 },
 "nbformat": 4,
 "nbformat_minor": 5
}
